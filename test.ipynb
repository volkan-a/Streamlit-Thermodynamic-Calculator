{
 "cells": [
  {
   "cell_type": "code",
   "execution_count": 1,
   "metadata": {},
   "outputs": [],
   "source": [
    "from ProcessStream import ProcessStream, PropertyPair, StreamInput, StreamResult\n",
    "from utility import Utility\n",
    "from uuid import uuid4"
   ]
  },
  {
   "cell_type": "code",
   "execution_count": 9,
   "metadata": {},
   "outputs": [],
   "source": [
    "input = StreamInput(name=\"str1\", id=uuid4(), m=1.0, fluid={\"Water\": 0.95, \"CO2\":0.05},property_pair=PropertyPair.TP, value1=393.15, value2=101325.0)"
   ]
  },
  {
   "cell_type": "code",
   "execution_count": 3,
   "metadata": {},
   "outputs": [
    {
     "name": "stdout",
     "output_type": "stream",
     "text": [
      "{'Water': 0.75, 'R134-a': 0.25}\n"
     ]
    }
   ],
   "source": [
    "fluid = {\"Water\":1.50, \"R134-a\":0.50}\n",
    "fluid = Utility.normalize_fluids(fluid=fluid)\n",
    "print(fluid)"
   ]
  },
  {
   "cell_type": "code",
   "execution_count": 5,
   "metadata": {},
   "outputs": [
    {
     "data": {
      "text/plain": [
       "{'T': 293.15,\n",
       " 'P': 101325.0,\n",
       " 'D': 998.2071504679284,\n",
       " 'h': 84007.3008506628,\n",
       " 's': 296.4628362251799,\n",
       " 'q': -1.0}"
      ]
     },
     "execution_count": 5,
     "metadata": {},
     "output_type": "execute_result"
    }
   ],
   "source": [
    "Utility.get_all_props(\"P\", 101325.0, \"T\", 293.15, {\"Water\":1.0})"
   ]
  },
  {
   "cell_type": "code",
   "execution_count": 10,
   "metadata": {},
   "outputs": [
    {
     "name": "stdout",
     "output_type": "stream",
     "text": [
      "name='str1' id=UUID('2425f06c-0d20-4c82-a116-1b2b912cba9c') fluid={'Water': 0.95, 'CO2': 0.05} m=1.0 T=393.15 P=101325.0 D=0.6053266676806175 h=2475215.83217561 s=7038.476999003766 q=-1.0\n"
     ]
    }
   ],
   "source": [
    "str1 =  ProcessStream(input=input)\n",
    "print(str1.result)"
   ]
  },
  {
   "cell_type": "code",
   "execution_count": 7,
   "metadata": {},
   "outputs": [
    {
     "data": {
      "text/plain": [
       "StreamResult(name='str1', id=UUID('eb04ad83-f5c4-434b-9523-400b4f5f346b'), fluid={'Water': 1.0}, m=1.0, T=393.15, P=101325.0, D=0.5651546975187777, h=2716499.8955370476, s=7461.3992855703555, q=-1.0)"
      ]
     },
     "execution_count": 7,
     "metadata": {},
     "output_type": "execute_result"
    }
   ],
   "source": [
    "str1.result"
   ]
  },
  {
   "cell_type": "code",
   "execution_count": null,
   "metadata": {},
   "outputs": [],
   "source": []
  }
 ],
 "metadata": {
  "kernelspec": {
   "display_name": "Python 3.10.6 ('python3.10')",
   "language": "python",
   "name": "python3"
  },
  "language_info": {
   "codemirror_mode": {
    "name": "ipython",
    "version": 3
   },
   "file_extension": ".py",
   "mimetype": "text/x-python",
   "name": "python",
   "nbconvert_exporter": "python",
   "pygments_lexer": "ipython3",
   "version": "3.10.6"
  },
  "orig_nbformat": 4,
  "vscode": {
   "interpreter": {
    "hash": "639eefe18cb57598219ba3bc21aab3c8365ae078faa727de3313742d8eba9c2c"
   }
  }
 },
 "nbformat": 4,
 "nbformat_minor": 2
}
